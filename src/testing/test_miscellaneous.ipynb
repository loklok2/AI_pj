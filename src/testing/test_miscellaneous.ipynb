{
 "cells": [
  {
   "cell_type": "markdown",
   "metadata": {},
   "source": [
    "# 이산화"
   ]
  },
  {
   "cell_type": "code",
   "execution_count": 1,
   "metadata": {},
   "outputs": [
    {
     "name": "stdout",
     "output_type": "stream",
     "text": [
      "[[0.]\n",
      " [0.]\n",
      " [0.]\n",
      " [1.]\n",
      " [1.]\n",
      " [1.]\n",
      " [2.]\n",
      " [2.]\n",
      " [2.]\n",
      " [2.]]\n"
     ]
    }
   ],
   "source": [
    "   from sklearn.preprocessing import KBinsDiscretizer\n",
    "\n",
    "   X = [[1], [2], [3], [4], [5], [6], [7], [8], [9], [10]]\n",
    "   discretizer = KBinsDiscretizer(n_bins=3, encode='ordinal', strategy='uniform')\n",
    "   X_discrete = discretizer.fit_transform(X)\n",
    "   print(X_discrete)"
   ]
  },
  {
   "cell_type": "markdown",
   "metadata": {},
   "source": [
    "원본 데이터:\n",
    "X = [[1], [2], [3], [4], [5], [6], [7], [8], [9], [10]]\n",
    "KBinsDiscretizer 설정:\n",
    "n_bins=3: 3개의 구간으로 나눕니다.\n",
    "strategy='uniform': 균일한 너비의 구간으로 나눕니다.\n",
    "\n",
    "이산화 과정:\n",
    "데이터 범위(1-10)를 3개의 균일한 구간으로 나눕니다:\n",
    "구간 1: 1 - 3.67\n",
    "구간 2: 3.67 - 6.33\n",
    "구간 3: 6.33 - 10\n",
    "\n",
    "결과 해석:\n",
    "\n",
    "[0.]: 구간 1에 속하는 값들 (1, 2, 3)\n",
    "\n",
    "[1.]: 구간 2에 속하는 값들 (4, 5, 6)\n",
    "\n",
    "[2.]: 구간 3에 속하는 값들 (7, 8, 9, 10)\n",
    "\n",
    "이렇게 연속적인 값들이 3개의 이산적인 범주로 변환되었습니다. \n",
    "각 범주는 0, 1, 2로 표현되어 있습니다.\n",
    "\n",
    "이산화의 장점:\n",
    "1. 데이터를 더 단순하고 관리하기 쉬운 형태로 변환합니다.\n",
    "2. 연속적인 값의 작은 변화에 덜 민감해집니다.\n",
    "3. 일부 머신러닝 알고리즘의 성능을 향상시킬 수 있습니다.\n",
    "\n",
    "이 예제에서는 10개의 연속적인 숫자가 3개의 범주로 그룹화되어, 데이터의 복잡성이 줄어들었습니다. 이는 패턴 인식이나 모델 학습에 도움이 될 수 있습니다."
   ]
  },
  {
   "cell_type": "markdown",
   "metadata": {},
   "source": [
    "# 벡터화"
   ]
  },
  {
   "cell_type": "code",
   "execution_count": 1,
   "metadata": {},
   "outputs": [
    {
     "name": "stdout",
     "output_type": "stream",
     "text": [
      "[[0 1 0 1 1]\n",
      " [1 0 1 0 1]]\n"
     ]
    }
   ],
   "source": [
    "   from sklearn.feature_extraction.text import CountVectorizer\n",
    "\n",
    "   texts = [\"나는 사과를 좋아한다\", \"그는 바나나를 좋아한다\"]\n",
    "   vectorizer = CountVectorizer()\n",
    "   X = vectorizer.fit_transform(texts)\n",
    "   print(X.toarray())"
   ]
  },
  {
   "cell_type": "markdown",
   "metadata": {},
   "source": [
    "1. 벡터의 의미:\n",
    "\n",
    "각 행은 입력 문장을 나타냅니다.\n",
    "\n",
    "각 열은 고유한 단어를 나타냅니다.\n",
    "\n",
    "값 1은 해당 단어가 문장에 존재함을, 0은 존재하지 않음을 의미합니다.\n",
    "\n",
    "2. 단어 순서 추정:\n",
    "\n",
    "[나는, 그는, 바나나를, 사과를, 좋아한다]\n",
    "\n",
    "3. 결과 해석:\n",
    "\n",
    "첫 번째 행 [0 1 0 1 1]: \"나는 사과를 좋아한다\"\n",
    "\n",
    "\"나는\" (1), \"사과를\" (1), \"좋아한다\" (1)\n",
    "\n",
    "두 번째 행 [1 0 1 0 1]: \"그는 바나나를 좋아한다\"\n",
    "\n",
    "\"그는\" (1), \"바나나를\" (1), \"좋아한다\" (1)\n",
    "\n",
    "이 벡터화 방식은 각 문장을 단어의 출현 여부로 표현하여, 텍스트 데이터를 수치화된 형태로 변환합니다. \n",
    "\n",
    "이를 통해 텍스트 데이터를 머신러닝 알고리즘에 입력할 수 있는 형태로 만들 수 있습니다.\n"
   ]
  },
  {
   "cell_type": "markdown",
   "metadata": {},
   "source": [
    "# GPU 정보 확인"
   ]
  },
  {
   "cell_type": "code",
   "execution_count": 2,
   "metadata": {},
   "outputs": [
    {
     "name": "stdout",
     "output_type": "stream",
     "text": [
      "Wed Sep 11 15:40:01 2024       \n",
      "+-----------------------------------------------------------------------------------------+\n",
      "| NVIDIA-SMI 560.94                 Driver Version: 560.94         CUDA Version: 12.6     |\n",
      "|-----------------------------------------+------------------------+----------------------+\n",
      "| GPU  Name                  Driver-Model | Bus-Id          Disp.A | Volatile Uncorr. ECC |\n",
      "| Fan  Temp   Perf          Pwr:Usage/Cap |           Memory-Usage | GPU-Util  Compute M. |\n",
      "|                                         |                        |               MIG M. |\n",
      "|=========================================+========================+======================|\n",
      "|   0  NVIDIA GeForce GTX 1650      WDDM  |   00000000:01:00.0  On |                  N/A |\n",
      "|  0%   47C    P8             N/A /   75W |    3844MiB /   4096MiB |      9%      Default |\n",
      "|                                         |                        |                  N/A |\n",
      "+-----------------------------------------+------------------------+----------------------+\n",
      "                                                                                         \n",
      "+-----------------------------------------------------------------------------------------+\n",
      "| Processes:                                                                              |\n",
      "|  GPU   GI   CI        PID   Type   Process name                              GPU Memory |\n",
      "|        ID   ID                                                               Usage      |\n",
      "|=========================================================================================|\n",
      "|    0   N/A  N/A       160    C+G   ...ekyb3d8bbwe\\PhoneExperienceHost.exe      N/A      |\n",
      "|    0   N/A  N/A      1068    C+G   ...64__8wekyb3d8bbwe\\CalculatorApp.exe      N/A      |\n",
      "|    0   N/A  N/A      1820    C+G   ...CBS_cw5n1h2txyewy\\TextInputHost.exe      N/A      |\n",
      "|    0   N/A  N/A      1932    C+G   ...les\\Microsoft OneDrive\\OneDrive.exe      N/A      |\n",
      "|    0   N/A  N/A      5948    C+G   ....Search_cw5n1h2txyewy\\SearchApp.exe      N/A      |\n",
      "|    0   N/A  N/A      6672      C   ...anaconda3\\envs\\AIProject\\python.exe      N/A      |\n",
      "|    0   N/A  N/A      7508    C+G   ....Search_cw5n1h2txyewy\\SearchApp.exe      N/A      |\n",
      "|    0   N/A  N/A      9196    C+G   ...5n1h2txyewy\\ShellExperienceHost.exe      N/A      |\n",
      "|    0   N/A  N/A     10472    C+G   ...oogle\\Chrome\\Application\\chrome.exe      N/A      |\n",
      "|    0   N/A  N/A     10828    C+G   ...ta\\Local\\Programs\\cursor\\Cursor.exe      N/A      |\n",
      "|    0   N/A  N/A     12020    C+G   ...Programs\\Microsoft VS Code\\Code.exe      N/A      |\n",
      "|    0   N/A  N/A     15928    C+G   ...on\\128.0.2739.67\\msedgewebview2.exe      N/A      |\n",
      "|    0   N/A  N/A     16872    C+G   ...b3d8bbwe\\Microsoft.Media.Player.exe      N/A      |\n",
      "|    0   N/A  N/A     17704    C+G   ...ocal\\Postman\\app-11.7.0\\Postman.exe      N/A      |\n",
      "|    0   N/A  N/A     20996    C+G   C:\\Windows\\explorer.exe                     N/A      |\n",
      "|    0   N/A  N/A     22076    C+G   ...siveControlPanel\\SystemSettings.exe      N/A      |\n",
      "+-----------------------------------------------------------------------------------------+\n",
      "\n"
     ]
    }
   ],
   "source": [
    "import subprocess\n",
    "import sys\n",
    "\n",
    "def get_gpu_info():\n",
    "    try:\n",
    "        gpu_info = subprocess.check_output([\"nvidia-smi\"]).decode(\"utf-8\")\n",
    "        return gpu_info\n",
    "    except:\n",
    "        return \"No GPU available or CUDA not installed.\"\n",
    "\n",
    "print(get_gpu_info())"
   ]
  }
 ],
 "metadata": {
  "kernelspec": {
   "display_name": "AIProject",
   "language": "python",
   "name": "python3"
  },
  "language_info": {
   "codemirror_mode": {
    "name": "ipython",
    "version": 3
   },
   "file_extension": ".py",
   "mimetype": "text/x-python",
   "name": "python",
   "nbconvert_exporter": "python",
   "pygments_lexer": "ipython3",
   "version": "3.12.4"
  }
 },
 "nbformat": 4,
 "nbformat_minor": 2
}
