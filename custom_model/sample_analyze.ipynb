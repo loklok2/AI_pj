{
 "cells": [
  {
   "cell_type": "code",
   "execution_count": 2,
   "metadata": {},
   "outputs": [],
   "source": [
    "import os\n",
    "import json\n",
    "from PIL import Image\n",
    "import torch\n",
    "from torch.utils.data import Dataset, DataLoader, Subset\n",
    "from torchvision import transforms\n",
    "from sklearn.model_selection import train_test_split"
   ]
  },
  {
   "cell_type": "code",
   "execution_count": null,
   "metadata": {},
   "outputs": [],
   "source": [
    "# 1. 데이터셋 클래스 정의\n",
    "class ClothingDataset(Dataset):\n",
    "    def __init__(self, root_dir, label_dir, transform=None):\n",
    "        self.root_dir = root_dir\n",
    "        self.label_dir = label_dir\n",
    "        self.transform = transform\n",
    "        self.image_paths = []\n",
    "        self.labels = []\n",
    "\n",
    "        self._load_dataset()\n",
    "\n",
    "    def _load_dataset(self):\n",
    "        categories = [\"아우터\", \"하의\", \"원피스\", \"상의\"]\n",
    "\n",
    "        # 라벨링 데이터 폴더 내의 모든 파일에 대해 처리\n",
    "        for style_folder in os.listdir(self.label_dir):\n",
    "            style_path = os.path.join(self.label_dir, style_folder)\n",
    "            if not os.path.isdir(style_path):\n",
    "                continue\n",
    "\n",
    "            for label_file in os.listdir(style_path):\n",
    "                if label_file.endswith('.json'):\n",
    "                    label_path = os.path.join(style_path, label_file)\n",
    "\n",
    "                    with open(label_path, 'r', encoding='utf-8') as f:\n",
    "                        label_data = json.load(f)\n",
    "\n",
    "                    # 이미지 식별자를 기반으로 이미지 파일 경로 생성\n",
    "                    image_id = label_data[\"이미지 정보\"][\"이미지 식별자\"]\n",
    "                    image_file = f\"{image_id}.jpg\"\n",
    "                    image_path = os.path.join(self.root_dir, style_folder, image_file)\n",
    "\n",
    "                    # 라벨 추출\n",
    "                    label = None\n",
    "                    for category in categories:\n",
    "                        if label_data[\"데이터셋 정보\"][\"데이터셋 상세설명\"][\"라벨링\"][category] != [{}]:\n",
    "                            label = category\n",
    "                            break\n",
    "\n",
    "                    if label is not None and os.path.exists(image_path):\n",
    "                        self.image_paths.append(image_path)\n",
    "                        self.labels.append(label)\n",
    "                    else:\n",
    "                        print(f\"이미지 경로 또는 라벨이 유효하지 않음: {image_path}, 라벨: {label}\")  # 문제 발생 시 출력\n",
    "\n",
    "    def __len__(self):\n",
    "        return len(self.image_paths)\n",
    "\n",
    "    def __getitem__(self, idx):\n",
    "        image = Image.open(self.image_paths[idx]).convert('RGB')\n",
    "        label = self.labels[idx]\n",
    "\n",
    "        if self.transform:\n",
    "            image = self.transform(image)\n",
    "\n",
    "        label_map = {\"아우터\": 0, \"하의\": 1, \"원피스\": 2, \"상의\": 3}\n",
    "        return image, label_map[label]"
   ]
  },
  {
   "cell_type": "code",
   "execution_count": null,
   "metadata": {},
   "outputs": [
    {
     "name": "stdout",
     "output_type": "stream",
     "text": [
      "C:\\SS\\AI_pj\n",
      "이미지 경로 또는 라벨이 유효하지 않음: C:\\SS\\AI_pj\\New_sample/원천데이터/원천데이터_1\\로맨틱\\165.jpg, 라벨: 아우터\n"
     ]
    }
   ],
   "source": [
    "# 2. 데이터 증강 포함한 변환 설정\n",
    "transform = transforms.Compose([\n",
    "    transforms.RandomHorizontalFlip(p=0.5),  # 50% 확률로 좌우 반전\n",
    "    transforms.RandomRotation(degrees=5),   # -15도에서 15도 사이에서 회전\n",
    "    transforms.ColorJitter(brightness=0.1, contrast=0.1, saturation=0.2, hue=0.05),  # 색상 변화\n",
    "    transforms.RandomResizedCrop(size=224, scale=(0.9, 1.1)),  # 이미지 확대 및 축소\n",
    "    transforms.ToTensor(),\n",
    "    transforms.Normalize(mean=[0.485, 0.456, 0.406], std=[0.229, 0.224, 0.225]),\n",
    "])\n",
    "current_dir = os.getcwd()\n",
    "# 3. 데이터셋 생성\n",
    "root_dir = os.path.join(current_dir, 'New_sample/원천데이터/원천데이터_1')\n",
    "label_dir = os.path.join(current_dir, 'New_sample/라벨링데이터')\n",
    "full_dataset = ClothingDataset(root_dir=root_dir, label_dir=label_dir, transform=transform)"
   ]
  },
  {
   "cell_type": "code",
   "execution_count": null,
   "metadata": {},
   "outputs": [],
   "source": [
    "# 4. 학습 및 검증 데이터셋으로 분리\n",
    "train_indices, val_indices = train_test_split(list(range(len(full_dataset))), test_size=0.2, random_state=42)\n",
    "train_dataset = Subset(full_dataset, train_indices)\n",
    "val_dataset = Subset(full_dataset, val_indices)\n",
    "\n",
    "# 5. DataLoader 생성\n",
    "train_dataloader = DataLoader(train_dataset, batch_size=32, shuffle=True)\n",
    "val_dataloader = DataLoader(val_dataset, batch_size=32, shuffle=False)"
   ]
  },
  {
   "cell_type": "code",
   "execution_count": null,
   "metadata": {},
   "outputs": [],
   "source": [
    "# 6. 모델 정의\n",
    "\n",
    "import torch\n",
    "import torch.nn as nn\n",
    "import torch.nn.functional as F\n",
    "\n",
    "class SimpleCNN(nn.Module):\n",
    "    def __init__(self, num_classes=4):\n",
    "        super(SimpleCNN, self).__init__()\n",
    "        self.conv1 = nn.Conv2d(in_channels=3, out_channels=16, kernel_size=3, stride=1, padding=1)\n",
    "        self.pool = nn.MaxPool2d(kernel_size=2, stride=2, padding=0)\n",
    "        self.conv2 = nn.Conv2d(in_channels=16, out_channels=32, kernel_size=3, stride=1, padding=1)\n",
    "        self.fc1 = nn.Linear(in_features=32 * 56 * 56, out_features=120)\n",
    "        self.fc2 = nn.Linear(in_features=120, out_features=60)\n",
    "        self.fc3 = nn.Linear(in_features=60, out_features=num_classes)\n",
    "        self.dropout = nn.Dropout(0.5)  # 드롭아웃 추가\n",
    "\n",
    "    def forward(self, x):\n",
    "        x = self.pool(F.relu(self.conv1(x)))\n",
    "        x = self.pool(F.relu(self.conv2(x)))\n",
    "        x = x.view(-1, 32 * 56 * 56)\n",
    "        x = F.relu(self.fc1(x))\n",
    "        x = self.dropout(x)  # 드롭아웃 적용\n",
    "        x = F.relu(self.fc2(x))\n",
    "        x = self.fc3(x)\n",
    "        return x\n"
   ]
  },
  {
   "cell_type": "code",
   "execution_count": 1,
   "metadata": {},
   "outputs": [
    {
     "ename": "NameError",
     "evalue": "name 'SimpleCNN' is not defined",
     "output_type": "error",
     "traceback": [
      "\u001b[1;31m---------------------------------------------------------------------------\u001b[0m",
      "\u001b[1;31mNameError\u001b[0m                                 Traceback (most recent call last)",
      "Cell \u001b[1;32mIn[1], line 2\u001b[0m\n\u001b[0;32m      1\u001b[0m \u001b[38;5;66;03m# 7. 모델 초기화\u001b[39;00m\n\u001b[1;32m----> 2\u001b[0m model \u001b[38;5;241m=\u001b[39m \u001b[43mSimpleCNN\u001b[49m(num_classes\u001b[38;5;241m=\u001b[39m\u001b[38;5;241m4\u001b[39m)\n\u001b[0;32m      4\u001b[0m \u001b[38;5;66;03m# 8. GPU가 사용 가능하면 모델을 GPU로 이동\u001b[39;00m\n\u001b[0;32m      5\u001b[0m device \u001b[38;5;241m=\u001b[39m torch\u001b[38;5;241m.\u001b[39mdevice(\u001b[38;5;124m\"\u001b[39m\u001b[38;5;124mcuda:0\u001b[39m\u001b[38;5;124m\"\u001b[39m \u001b[38;5;28;01mif\u001b[39;00m torch\u001b[38;5;241m.\u001b[39mcuda\u001b[38;5;241m.\u001b[39mis_available() \u001b[38;5;28;01melse\u001b[39;00m \u001b[38;5;124m\"\u001b[39m\u001b[38;5;124mcpu\u001b[39m\u001b[38;5;124m\"\u001b[39m)\n",
      "\u001b[1;31mNameError\u001b[0m: name 'SimpleCNN' is not defined"
     ]
    }
   ],
   "source": [
    "# 7. 모델 초기화\n",
    "model = SimpleCNN(num_classes=4)\n",
    "\n",
    "# 8. GPU가 사용 가능하면 모델을 GPU로 이동\n",
    "device = torch.device(\"cuda:0\" if torch.cuda.is_available() else \"cpu\")\n",
    "model = model.to(device)\n",
    "\n",
    "# 9. 손실 함수 및 옵티마이저 정의\n",
    "import torch.optim as optim\n",
    "criterion = nn.CrossEntropyLoss()\n",
    "optimizer = optim.Adam(model.parameters(), lr=0.001)\n",
    "\n",
    "early_stopping_patience = 3  # 성능이 개선되지 않는 에포크 수\n",
    "min_delta = 0.01  # 개선으로 간주될 최소 변화량\n",
    "best_val_accuracy = 0.0\n",
    "patience_counter = 0"
   ]
  },
  {
   "cell_type": "code",
   "execution_count": null,
   "metadata": {},
   "outputs": [
    {
     "name": "stderr",
     "output_type": "stream",
     "text": [
      "Epoch 1/50: 100%|██████████████████████████████████████████████████████████████████████| 55/55 [09:04<00:00,  9.90s/it]\n"
     ]
    },
    {
     "name": "stdout",
     "output_type": "stream",
     "text": [
      "Epoch 1: Loss: 1.2363, Accuracy: 41.90%\n",
      "Validation Loss: 1.0864, Validation Accuracy: 37.95%\n"
     ]
    },
    {
     "name": "stderr",
     "output_type": "stream",
     "text": [
      "Epoch 2/50:   2%|█▎                                                                     | 1/55 [00:10<09:49, 10.91s/it]"
     ]
    }
   ],
   "source": [
    "# 10. 학습 및 검증\n",
    "from tqdm import tqdm\n",
    "\n",
    "num_epochs = 50\n",
    "\n",
    "for epoch in range(num_epochs):\n",
    "    model.train()\n",
    "    running_loss = 0.0\n",
    "    correct = 0\n",
    "    total = 0\n",
    "\n",
    "    for i, data in enumerate(tqdm(train_dataloader, desc=f\"Epoch {epoch+1}/{num_epochs}\")):\n",
    "        inputs, labels = data\n",
    "        inputs, labels = inputs.to(device), labels.to(device)\n",
    "\n",
    "        optimizer.zero_grad()\n",
    "\n",
    "        outputs = model(inputs)\n",
    "        loss = criterion(outputs, labels)\n",
    "        loss.backward()\n",
    "        optimizer.step()\n",
    "\n",
    "        running_loss += loss.item()\n",
    "        _, predicted = torch.max(outputs.data, 1)\n",
    "        total += labels.size(0)\n",
    "        correct += (predicted == labels).sum().item()\n",
    "\n",
    "    epoch_loss = running_loss / len(train_dataloader)\n",
    "    epoch_accuracy = 100 * correct / total\n",
    "    print(f\"Epoch {epoch+1}: Loss: {epoch_loss:.4f}, Accuracy: {epoch_accuracy:.2f}%\")\n",
    "\n",
    "    # 검증 과정\n",
    "    model.eval()\n",
    "    val_loss = 0.0\n",
    "    val_correct = 0\n",
    "    val_total = 0\n",
    "\n",
    "    with torch.no_grad():\n",
    "        for data in val_dataloader:\n",
    "            inputs, labels = data\n",
    "            inputs, labels = inputs.to(device), labels.to(device)\n",
    "\n",
    "            outputs = model(inputs)\n",
    "            loss = criterion(outputs, labels)\n",
    "            val_loss += loss.item()\n",
    "\n",
    "            _, predicted = torch.max(outputs.data, 1)\n",
    "            val_total += labels.size(0)\n",
    "            val_correct += (predicted == labels).sum().item()\n",
    "\n",
    "    val_loss /= len(val_dataloader)\n",
    "    val_accuracy = 100 * val_correct / val_total\n",
    "    print(f\"Validation Loss: {val_loss:.4f}, Validation Accuracy: {val_accuracy:.2f}%\")\n",
    "\n",
    "    # Early Stopping 체크\n",
    "    if val_accuracy - best_val_accuracy > min_delta:\n",
    "        best_val_accuracy = val_accuracy\n",
    "        patience_counter = 0  # 개선이 이루어졌으므로 카운터 초기화\n",
    "    else:\n",
    "        patience_counter += 1  # 개선되지 않았을 경우 카운터 증가\n",
    "\n",
    "    if patience_counter >= early_stopping_patience:\n",
    "        print(\"Early stopping triggered\")\n",
    "        break  # 학습 중단\n",
    "\n",
    "print('Finished Training')"
   ]
  },
  {
   "cell_type": "code",
   "execution_count": null,
   "metadata": {},
   "outputs": [],
   "source": [
    "# 예측한 모델을 활용하는 방법\n",
    "from PIL import Image\n",
    "import torch\n",
    "\n",
    "def predict_image(image_path, model, transform, label_map):\n",
    "    \"\"\"\n",
    "    주어진 이미지에 대해 모델이 예측한 라벨을 반환하는 함수.\n",
    "\n",
    "    Parameters:\n",
    "    - image_path: 예측할 이미지 파일 경로\n",
    "    - model: 학습된 PyTorch 모델\n",
    "    - transform: 이미지 전처리(transform)\n",
    "    - label_map: 정수 라벨을 실제 클래스 이름으로 매핑하는 딕셔너리\n",
    "\n",
    "    Returns:\n",
    "    - predicted_label: 예측된 클래스 이름\n",
    "    \"\"\"\n",
    "    # 모델을 평가 모드로 설정\n",
    "    model.eval()\n",
    "\n",
    "    # 이미지를 불러와서 전처리\n",
    "    image = Image.open(image_path).convert('RGB')\n",
    "    image = transform(image).unsqueeze(0)  # 배치 차원을 추가\n",
    "\n",
    "    # 모델을 사용하여 예측 수행\n",
    "    with torch.no_grad():\n",
    "        image = image.to(device)\n",
    "        outputs = model(image)\n",
    "        _, predicted = torch.max(outputs, 1)\n",
    "\n",
    "    # 예측된 라벨의 인덱스를 실제 클래스 이름으로 변환\n",
    "    predicted_label = label_map[predicted.item()]\n",
    "    return predicted_label\n"
   ]
  },
  {
   "cell_type": "code",
   "execution_count": null,
   "metadata": {},
   "outputs": [
    {
     "name": "stdout",
     "output_type": "stream",
     "text": [
      "상의의 Predicted Label: 상의\n",
      "하의의 Predicted Label: 원피스\n",
      "원피스의 Predicted Label: 원피스\n",
      "아우터의 Predicted Label: 하의\n"
     ]
    }
   ],
   "source": [
    "# 라벨 맵핑 정의 (숫자 라벨을 클래스 이름으로 변환)\n",
    "label_map = {0: \"아우터\", 1: \"하의\", 2: \"원피스\", 3: \"상의\"}\n",
    "\n",
    "\n",
    "# 예측 수행\n",
    "predicted_label1 = predict_image('C:/SS/AI_pj/New_sample/확인용데이터/상의.jpg', model, transform, label_map)\n",
    "predicted_label2 = predict_image('C:/SS/AI_pj/New_sample/확인용데이터/하의.jpg', model, transform, label_map)\n",
    "predicted_label3 = predict_image('C:/SS/AI_pj/New_sample/확인용데이터/원피스.jpg', model, transform, label_map)\n",
    "predicted_label4 = predict_image('C:/SS/AI_pj/New_sample/확인용데이터/아우터.jpg', model, transform, label_map)\n",
    "\n",
    "\n",
    "# 예측 결과 출력\n",
    "print(f\"상의의 Predicted Label: {predicted_label1}\")\n",
    "print(f\"하의의 Predicted Label: {predicted_label2}\")\n",
    "print(f\"원피스의 Predicted Label: {predicted_label3}\")\n",
    "print(f\"아우터의 Predicted Label: {predicted_label4}\")\n"
   ]
  },
  {
   "cell_type": "code",
   "execution_count": null,
   "metadata": {},
   "outputs": [],
   "source": []
  }
 ],
 "metadata": {
  "kernelspec": {
   "display_name": "Python 3 (ipykernel)",
   "language": "python",
   "name": "python3"
  },
  "language_info": {
   "codemirror_mode": {
    "name": "ipython",
    "version": 3
   },
   "file_extension": ".py",
   "mimetype": "text/x-python",
   "name": "python",
   "nbconvert_exporter": "python",
   "pygments_lexer": "ipython3",
   "version": "3.12.4"
  }
 },
 "nbformat": 4,
 "nbformat_minor": 2
}
