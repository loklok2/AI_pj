{
 "cells": [
  {
   "cell_type": "code",
   "execution_count": 1,
   "metadata": {},
   "outputs": [],
   "source": [
    "import os\n",
    "import json\n",
    "from PIL import Image\n",
    "import torch\n",
    "from torch.utils.data import Dataset, DataLoader, Subset\n",
    "from torchvision import transforms\n",
    "from sklearn.model_selection import train_test_split"
   ]
  },
  {
   "cell_type": "code",
   "execution_count": 2,
   "metadata": {},
   "outputs": [
    {
     "name": "stderr",
     "output_type": "stream",
     "text": [
      "c:\\Users\\user\\anaconda3\\envs\\torch-book\\Lib\\site-packages\\torchvision\\models\\_utils.py:208: UserWarning: The parameter 'pretrained' is deprecated since 0.13 and may be removed in the future, please use 'weights' instead.\n",
      "  warnings.warn(\n",
      "c:\\Users\\user\\anaconda3\\envs\\torch-book\\Lib\\site-packages\\torchvision\\models\\_utils.py:223: UserWarning: Arguments other than a weight enum or `None` for 'weights' are deprecated since 0.13 and may be removed in the future. The current behavior is equivalent to passing `weights=ResNet50_Weights.IMAGENET1K_V1`. You can also use `weights=ResNet50_Weights.DEFAULT` to get the most up-to-date weights.\n",
      "  warnings.warn(msg)\n"
     ]
    }
   ],
   "source": [
    "import torchvision.models as models\n",
    "import torch.nn as nn\n",
    "num_classes = 4\n",
    "resnet = models.resnet50(pretrained=True)\n",
    "resnet.fc = nn.Linear(resnet.fc.in_features, num_classes)"
   ]
  },
  {
   "cell_type": "code",
   "execution_count": 3,
   "metadata": {},
   "outputs": [
    {
     "name": "stderr",
     "output_type": "stream",
     "text": [
      "C:\\Users\\user\\AppData\\Local\\Temp\\ipykernel_13972\\393387443.py:3: FutureWarning: You are using `torch.load` with `weights_only=False` (the current default value), which uses the default pickle module implicitly. It is possible to construct malicious pickle data which will execute arbitrary code during unpickling (See https://github.com/pytorch/pytorch/blob/main/SECURITY.md#untrusted-models for more details). In a future release, the default value for `weights_only` will be flipped to `True`. This limits the functions that could be executed during unpickling. Arbitrary objects will no longer be allowed to be loaded via this mode unless they are explicitly allowlisted by the user via `torch.serialization.add_safe_globals`. We recommend you start setting `weights_only=True` for any use case where you don't have full control of the loaded file. Please open an issue on GitHub for any issues related to this experimental feature.\n",
      "  model.load_state_dict(torch.load('C:/SS/AI_pj/best_model_weights.pth', map_location=device))\n"
     ]
    },
    {
     "data": {
      "text/plain": [
       "SimpleCNN(\n",
       "  (conv1): Conv2d(3, 16, kernel_size=(3, 3), stride=(1, 1), padding=(1, 1))\n",
       "  (pool): MaxPool2d(kernel_size=2, stride=2, padding=0, dilation=1, ceil_mode=False)\n",
       "  (conv2): Conv2d(16, 32, kernel_size=(3, 3), stride=(1, 1), padding=(1, 1))\n",
       "  (fc1): Linear(in_features=100352, out_features=120, bias=True)\n",
       "  (fc2): Linear(in_features=120, out_features=60, bias=True)\n",
       "  (fc3): Linear(in_features=60, out_features=4, bias=True)\n",
       "  (dropout): Dropout(p=0.5, inplace=False)\n",
       ")"
      ]
     },
     "execution_count": 3,
     "metadata": {},
     "output_type": "execute_result"
    }
   ],
   "source": [
    "device = torch.device(\"cuda:0\" if torch.cuda.is_available() else \"cpu\")\n",
    "model = SimpleCNN(num_classes=4)  # 여기에 사용한 모델 구조와 동일해야 합니다.\n",
    "model.load_state_dict(torch.load('C:/SS/AI_pj/best_model_weights.pth', map_location=device))\n",
    "model.to(device)\n",
    "model.eval()"
   ]
  },
  {
   "cell_type": "code",
   "execution_count": 4,
   "metadata": {},
   "outputs": [],
   "source": [
    "transform = transforms.Compose([\n",
    "    transforms.Resize((224, 224)),\n",
    "    transforms.ToTensor(),\n",
    "    transforms.Normalize(mean=[0.485, 0.456, 0.406], std=[0.229, 0.224, 0.225]),\n",
    "])\n",
    "\n",
    "# 라벨 맵핑 (예시)\n",
    "label_map = {0: \"아우터\", 1: \"하의\", 2: \"원피스\", 3: \"상의\"}\n",
    "\n",
    "# 예측 함수\n",
    "def predict_image(image_path, model, transform, label_map):\n",
    "    image = Image.open(image_path).convert('RGB')\n",
    "    image = transform(image).unsqueeze(0)  # 배치 차원 추가\n",
    "\n",
    "    image = image.to(device)\n",
    "\n",
    "    with torch.no_grad():\n",
    "        outputs = model(image)\n",
    "        _, predicted = torch.max(outputs, 1)\n",
    "\n",
    "    predicted_label = label_map[predicted.item()]\n",
    "    return predicted_label"
   ]
  },
  {
   "cell_type": "code",
   "execution_count": 8,
   "metadata": {},
   "outputs": [
    {
     "name": "stdout",
     "output_type": "stream",
     "text": [
      "Accuracy: 5.70%\n",
      "Correct predictions: 57\n",
      "\n",
      "Correctly predicted images:\n",
      "C:\\SS\\AI_project_data\\kfashoin_ai_model\\img\\K-fashion_HardSegImgs_aim\\10\\10_원피스.jpg\n",
      "C:\\SS\\AI_project_data\\kfashoin_ai_model\\img\\K-fashion_HardSegImgs_aim\\100\\100_원피스.jpg\n",
      "C:\\SS\\AI_project_data\\kfashoin_ai_model\\img\\K-fashion_HardSegImgs_aim\\1000\\1000_원피스.jpg\n",
      "C:\\SS\\AI_project_data\\kfashoin_ai_model\\img\\K-fashion_HardSegImgs_aim\\1001\\1001_원피스.jpg\n",
      "C:\\SS\\AI_project_data\\kfashoin_ai_model\\img\\K-fashion_HardSegImgs_aim\\1002\\1002_원피스.jpg\n",
      "C:\\SS\\AI_project_data\\kfashoin_ai_model\\img\\K-fashion_HardSegImgs_aim\\1003\\1003_원피스.jpg\n",
      "C:\\SS\\AI_project_data\\kfashoin_ai_model\\img\\K-fashion_HardSegImgs_aim\\10031\\10031_하의.jpg\n",
      "C:\\SS\\AI_project_data\\kfashoin_ai_model\\img\\K-fashion_HardSegImgs_aim\\1005\\1005_원피스.jpg\n",
      "C:\\SS\\AI_project_data\\kfashoin_ai_model\\img\\K-fashion_HardSegImgs_aim\\10055\\10055_하의.jpg\n",
      "C:\\SS\\AI_project_data\\kfashoin_ai_model\\img\\K-fashion_HardSegImgs_aim\\1006\\1006_원피스.jpg\n",
      "C:\\SS\\AI_project_data\\kfashoin_ai_model\\img\\K-fashion_HardSegImgs_aim\\10062\\10062_하의.jpg\n",
      "C:\\SS\\AI_project_data\\kfashoin_ai_model\\img\\K-fashion_HardSegImgs_aim\\1007\\1007_원피스.jpg\n",
      "C:\\SS\\AI_project_data\\kfashoin_ai_model\\img\\K-fashion_HardSegImgs_aim\\10075\\10075_하의.jpg\n",
      "C:\\SS\\AI_project_data\\kfashoin_ai_model\\img\\K-fashion_HardSegImgs_aim\\10077\\10077_하의.jpg\n",
      "C:\\SS\\AI_project_data\\kfashoin_ai_model\\img\\K-fashion_HardSegImgs_aim\\1008\\1008_원피스.jpg\n",
      "C:\\SS\\AI_project_data\\kfashoin_ai_model\\img\\K-fashion_HardSegImgs_aim\\1009\\1009_원피스.jpg\n",
      "C:\\SS\\AI_project_data\\kfashoin_ai_model\\img\\K-fashion_HardSegImgs_aim\\101\\101_원피스.jpg\n",
      "C:\\SS\\AI_project_data\\kfashoin_ai_model\\img\\K-fashion_HardSegImgs_aim\\1010\\1010_원피스.jpg\n",
      "C:\\SS\\AI_project_data\\kfashoin_ai_model\\img\\K-fashion_HardSegImgs_aim\\1011\\1011_원피스.jpg\n",
      "C:\\SS\\AI_project_data\\kfashoin_ai_model\\img\\K-fashion_HardSegImgs_aim\\1012\\1012_원피스.jpg\n",
      "C:\\SS\\AI_project_data\\kfashoin_ai_model\\img\\K-fashion_HardSegImgs_aim\\1013\\1013_원피스.jpg\n",
      "C:\\SS\\AI_project_data\\kfashoin_ai_model\\img\\K-fashion_HardSegImgs_aim\\1014\\1014_원피스.jpg\n",
      "C:\\SS\\AI_project_data\\kfashoin_ai_model\\img\\K-fashion_HardSegImgs_aim\\1015\\1015_원피스.jpg\n",
      "C:\\SS\\AI_project_data\\kfashoin_ai_model\\img\\K-fashion_HardSegImgs_aim\\1016\\1016_원피스.jpg\n",
      "C:\\SS\\AI_project_data\\kfashoin_ai_model\\img\\K-fashion_HardSegImgs_aim\\1017\\1017_원피스.jpg\n",
      "C:\\SS\\AI_project_data\\kfashoin_ai_model\\img\\K-fashion_HardSegImgs_aim\\1018\\1018_원피스.jpg\n",
      "C:\\SS\\AI_project_data\\kfashoin_ai_model\\img\\K-fashion_HardSegImgs_aim\\1019\\1019_원피스.jpg\n",
      "C:\\SS\\AI_project_data\\kfashoin_ai_model\\img\\K-fashion_HardSegImgs_aim\\1020\\1020_원피스.jpg\n",
      "C:\\SS\\AI_project_data\\kfashoin_ai_model\\img\\K-fashion_HardSegImgs_aim\\1021\\1021_원피스.jpg\n",
      "C:\\SS\\AI_project_data\\kfashoin_ai_model\\img\\K-fashion_HardSegImgs_aim\\1022\\1022_원피스.jpg\n",
      "C:\\SS\\AI_project_data\\kfashoin_ai_model\\img\\K-fashion_HardSegImgs_aim\\1023\\1023_원피스.jpg\n",
      "C:\\SS\\AI_project_data\\kfashoin_ai_model\\img\\K-fashion_HardSegImgs_aim\\1024\\1024_원피스.jpg\n",
      "C:\\SS\\AI_project_data\\kfashoin_ai_model\\img\\K-fashion_HardSegImgs_aim\\1025\\1025_원피스.jpg\n",
      "C:\\SS\\AI_project_data\\kfashoin_ai_model\\img\\K-fashion_HardSegImgs_aim\\1026\\1026_원피스.jpg\n",
      "C:\\SS\\AI_project_data\\kfashoin_ai_model\\img\\K-fashion_HardSegImgs_aim\\10262\\10262_하의.jpg\n",
      "C:\\SS\\AI_project_data\\kfashoin_ai_model\\img\\K-fashion_HardSegImgs_aim\\1027\\1027_원피스.jpg\n",
      "C:\\SS\\AI_project_data\\kfashoin_ai_model\\img\\K-fashion_HardSegImgs_aim\\102735\\102735_하의.jpg\n",
      "C:\\SS\\AI_project_data\\kfashoin_ai_model\\img\\K-fashion_HardSegImgs_aim\\1028\\1028_원피스.jpg\n",
      "C:\\SS\\AI_project_data\\kfashoin_ai_model\\img\\K-fashion_HardSegImgs_aim\\102809\\102809_하의.jpg\n",
      "C:\\SS\\AI_project_data\\kfashoin_ai_model\\img\\K-fashion_HardSegImgs_aim\\102881\\102881_하의.jpg\n",
      "C:\\SS\\AI_project_data\\kfashoin_ai_model\\img\\K-fashion_HardSegImgs_aim\\102890\\102890_하의.jpg\n",
      "C:\\SS\\AI_project_data\\kfashoin_ai_model\\img\\K-fashion_HardSegImgs_aim\\1029\\1029_원피스.jpg\n",
      "C:\\SS\\AI_project_data\\kfashoin_ai_model\\img\\K-fashion_HardSegImgs_aim\\102964\\102964_하의.jpg\n",
      "C:\\SS\\AI_project_data\\kfashoin_ai_model\\img\\K-fashion_HardSegImgs_aim\\1030\\1030_원피스.jpg\n",
      "C:\\SS\\AI_project_data\\kfashoin_ai_model\\img\\K-fashion_HardSegImgs_aim\\103073\\103073_하의.jpg\n",
      "C:\\SS\\AI_project_data\\kfashoin_ai_model\\img\\K-fashion_HardSegImgs_aim\\103087\\103087_하의.jpg\n",
      "C:\\SS\\AI_project_data\\kfashoin_ai_model\\img\\K-fashion_HardSegImgs_aim\\1031\\1031_원피스.jpg\n",
      "C:\\SS\\AI_project_data\\kfashoin_ai_model\\img\\K-fashion_HardSegImgs_aim\\103104\\103104_하의.jpg\n",
      "C:\\SS\\AI_project_data\\kfashoin_ai_model\\img\\K-fashion_HardSegImgs_aim\\103108\\103108_하의.jpg\n",
      "C:\\SS\\AI_project_data\\kfashoin_ai_model\\img\\K-fashion_HardSegImgs_aim\\103109\\103109_하의.jpg\n",
      "C:\\SS\\AI_project_data\\kfashoin_ai_model\\img\\K-fashion_HardSegImgs_aim\\103112\\103112_하의.jpg\n",
      "C:\\SS\\AI_project_data\\kfashoin_ai_model\\img\\K-fashion_HardSegImgs_aim\\103113\\103113_하의.jpg\n",
      "C:\\SS\\AI_project_data\\kfashoin_ai_model\\img\\K-fashion_HardSegImgs_aim\\103139\\103139_하의.jpg\n",
      "C:\\SS\\AI_project_data\\kfashoin_ai_model\\img\\K-fashion_HardSegImgs_aim\\103151\\103151_하의.jpg\n",
      "C:\\SS\\AI_project_data\\kfashoin_ai_model\\img\\K-fashion_HardSegImgs_aim\\10316\\10316_하의.jpg\n",
      "C:\\SS\\AI_project_data\\kfashoin_ai_model\\img\\K-fashion_HardSegImgs_aim\\103174\\103174_하의.jpg\n",
      "C:\\SS\\AI_project_data\\kfashoin_ai_model\\img\\K-fashion_HardSegImgs_aim\\10321\\10321_하의.jpg\n"
     ]
    }
   ],
   "source": [
    "import os\n",
    "from tqdm import tqdm  # tqdm 모듈 임포트\n",
    "\n",
    "top_folder = r'C:\\SS\\AI_project_data\\kfashoin_ai_model\\img\\K-fashion_HardSegImgs_aim'\n",
    "count, accuracy = 0, 0\n",
    "max_iterations = 1000  # 최대 반복 횟수 설정\n",
    "correct_predictions = []  # 정답을 맞춘 이미지 파일 경로를 저장할 리스트\n",
    "\n",
    "# 최상위 폴더 하위의 모든 폴더와 파일을 순회\n",
    "for root, dirs, files in os.walk(top_folder):\n",
    "    for file in files:\n",
    "        if file.endswith(('.jpg', '.jpeg', '.png', '.bmp')):\n",
    "            image_path = os.path.join(root, file)\n",
    "            \n",
    "            # 예측 수행\n",
    "            predicted_label = predict_image(image_path, model, transform, label_map)\n",
    "            \n",
    "            # 파일명에 예측된 라벨이 포함되어 있는지 확인\n",
    "            if predicted_label in file:\n",
    "                accuracy += 1\n",
    "                correct_predictions.append(image_path)  # 정답을 맞춘 이미지 경로 저장\n",
    "\n",
    "            count += 1 \n",
    "            \n",
    "            # 최대 반복 횟수에 도달하면 중단\n",
    "            if count >= max_iterations:\n",
    "                break\n",
    "    \n",
    "    if count >= max_iterations:\n",
    "        break\n",
    "\n",
    "# 정확도 계산 및 출력\n",
    "if count > 0:\n",
    "    print(f\"Accuracy: {accuracy / count * 100:.2f}%\")\n",
    "    print(f\"Correct predictions: {len(correct_predictions)}\")\n",
    "else:\n",
    "    print(\"No images processed.\")\n",
    "\n",
    "# 정답을 맞춘 이미지 파일 목록 출력\n",
    "if correct_predictions:\n",
    "    print(\"\\nCorrectly predicted images:\")\n",
    "    for img_path in correct_predictions:\n",
    "        print(img_path)\n",
    "else:\n",
    "    print(\"No correct predictions.\")\n"
   ]
  },
  {
   "cell_type": "code",
   "execution_count": null,
   "metadata": {},
   "outputs": [],
   "source": []
  }
 ],
 "metadata": {
  "kernelspec": {
   "display_name": "Python 3 (ipykernel)",
   "language": "python",
   "name": "python3"
  },
  "language_info": {
   "codemirror_mode": {
    "name": "ipython",
    "version": 3
   },
   "file_extension": ".py",
   "mimetype": "text/x-python",
   "name": "python",
   "nbconvert_exporter": "python",
   "pygments_lexer": "ipython3",
   "version": "3.12.4"
  }
 },
 "nbformat": 4,
 "nbformat_minor": 2
}
